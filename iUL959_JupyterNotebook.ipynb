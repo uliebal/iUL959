{
  "nbformat": 4,
  "nbformat_minor": 0,
  "metadata": {
    "colab": {
      "name": "iUL959-JupyterNotebook",
      "version": "0.3.2",
      "provenance": [],
      "collapsed_sections": [],
      "toc_visible": true,
      "include_colab_link": true
    },
    "kernelspec": {
      "name": "python3",
      "display_name": "Python 3"
    }
  },
  "cells": [
    {
      "cell_type": "markdown",
      "metadata": {
        "id": "view-in-github",
        "colab_type": "text"
      },
      "source": [
        "<a href=\"https://colab.research.google.com/github/uliebal/iUL959/blob/master/iUL959_JupyterNotebook.ipynb\" target=\"_parent\"><img src=\"https://colab.research.google.com/assets/colab-badge.svg\" alt=\"Open In Colab\"/></a>"
      ]
    },
    {
      "cell_type": "code",
      "metadata": {
        "id": "a8Mag-0F9SzA",
        "colab_type": "code",
        "colab": {}
      },
      "source": [
        ""
      ],
      "execution_count": 0,
      "outputs": []
    },
    {
      "cell_type": "markdown",
      "metadata": {
        "id": "Fv_Iyuda-xnr",
        "colab_type": "text"
      },
      "source": [
        "# Genome scale model reconstruction of the methylotrophic yeast Ogataea polymorpha: Reproduction of simulations of iUL959 with CobraPy Notebook"
      ]
    },
    {
      "cell_type": "markdown",
      "metadata": {
        "id": "RdZhhX8A-3f6",
        "colab_type": "text"
      },
      "source": [
        "## Introduction\n",
        "\n",
        "This notebook is an extension to the article by Liebal et al., (2019) and reproduces the comparison of experimental growth rates with predictions by the genome scale metabolic model (GSMM) of Ogataea polymorpha iUL959.\n",
        "\n",
        "\n",
        "## Requirements\n",
        "\n",
        "Make sure that the required files are present in the notebook. Only dependencies not already present in the jupyter/scipy-noteboook are listed (see here for the default list: https://jupyter-docker-stacks.readthedocs.io/en/latest/using/selecting.html) \n",
        "\n",
        "Files:\n",
        "* iUL959.xml: SBML file, Genome scale metabolic model of O. polymorpha\n",
        "* iUL959_GSMM-addinfo.xlsx: Excel file, contains the literature growth rates and uptake rate in sheet 'Literature_Chemostat'\n"
      ]
    },
    {
      "cell_type": "markdown",
      "metadata": {
        "id": "dKd3r3HOATOg",
        "colab_type": "text"
      },
      "source": [
        "## Set-up compute environment \n",
        "\n",
        "In the following cell the python environment is set up. If CobraPy and Memote are not already downloaded, use the following command to download the packages them from the cell:\n",
        "!{sys.executable} -m pip install cobra"
      ]
    },
    {
      "cell_type": "code",
      "metadata": {
        "id": "InLQFiau9ghT",
        "colab_type": "code",
        "colab": {}
      },
      "source": [
        "import sys # loading commands to control/navigate within the system architecture\n",
        "# Loading pandas, a library for data manipulation\n",
        "#!{sys.executable} -m pip install pandas\n",
        "import pandas as pd\n",
        "import xlrd\n",
        "\n",
        "# Loading numpy, a library fo manipulation of numbers\n",
        "import numpy as np\n",
        "\n",
        "# loading matplotlib, a library for visualization\n",
        "!{sys.executable} -m pip install matplotlib\n",
        "import matplotlib.pyplot as plt\n",
        "%matplotlib inline\n",
        "\n",
        "# loading cobrapy, a library dedicated to the analysis of genome scale metabolic models\n",
        "!{sys.executable} -m pip install cobra\n",
        "from cobra.io import read_sbml_model\n",
        "from cobra.io import write_sbml_model\n"
      ],
      "execution_count": 0,
      "outputs": []
    },
    {
      "cell_type": "markdown",
      "metadata": {
        "id": "9hY2k6iAAOz-",
        "colab_type": "text"
      },
      "source": [
        "## Data loading\n",
        "\n",
        "Now, the external data is integrated. In Google, you can use the upload link below. For Binder, upload them manually. The excel-sheet is parsed and the GSMM file is converted to a model variable."
      ]
    },
    {
      "cell_type": "code",
      "metadata": {
        "id": "-tUuJf_-Anuj",
        "colab_type": "code",
        "colab": {}
      },
      "source": [
        "from google.colab import files\n",
        "\n",
        "uploaded = files.upload()\n",
        "\n",
        "for fn in uploaded.keys():\n",
        "  print('User uploaded file \"{name}\" with length {length} bytes'.format(\n",
        "      name=fn, length=len(uploaded[fn])))"
      ],
      "execution_count": 0,
      "outputs": []
    },
    {
      "cell_type": "code",
      "metadata": {
        "id": "w1jrdmwd_RNF",
        "colab_type": "code",
        "colab": {}
      },
      "source": [
        "from google.colab import files\n",
        "\n",
        "uploaded = files.upload()\n",
        "\n",
        "for fn in uploaded.keys():\n",
        "  print('User uploaded file \"{name}\" with length {length} bytes'.format(\n",
        "      name=fn, length=len(uploaded[fn])))"
      ],
      "execution_count": 0,
      "outputs": []
    },
    {
      "cell_type": "markdown",
      "metadata": {
        "id": "ZZ1QrNNHFiZt",
        "colab_type": "text"
      },
      "source": [
        "## Data manipulation"
      ]
    },
    {
      "cell_type": "code",
      "metadata": {
        "id": "vp4W-w7AFosa",
        "colab_type": "code",
        "colab": {}
      },
      "source": [
        "myxls = 'iUL959_GSMM-addinfo.xlsx'\n",
        "x1 = pd.ExcelFile(myxls)\n",
        "print(x1.sheet_names)\n",
        "df1 = x1.parse('Literature_Chemostat')\n",
        "df1.head(9)\n"
      ],
      "execution_count": 0,
      "outputs": []
    },
    {
      "cell_type": "code",
      "metadata": {
        "id": "gFppbhjTHM8h",
        "colab_type": "code",
        "colab": {}
      },
      "source": [
        "# generating cobra variable from SBML/xml file\n",
        "model = read_sbml_model('iUL959.xml')\n",
        "model"
      ],
      "execution_count": 0,
      "outputs": []
    },
    {
      "cell_type": "markdown",
      "metadata": {
        "id": "gCoO_eIFAP-s",
        "colab_type": "text"
      },
      "source": [
        "## Function definitions\n",
        "\n",
        "We are testing three different growth conditions with substrates methanol, glycerol, and glucose. For each of the substrates, the corresponding exchange rate has to be activated, the approriate biomass composition formula has to be selected and exchange reactions for non-used substrates need to be closed."
      ]
    },
    {
      "cell_type": "code",
      "metadata": {
        "id": "HWLfIcNlET3C",
        "colab_type": "code",
        "colab": {}
      },
      "source": [
        "def AdaptMethanol(model, meoh_up):\n",
        "  # setting uptake reactions right\n",
        "  model.reactions.Ex_glc_D.lower_bound = 0\n",
        "  model.reactions.Ex_glyc.lower_bound = 0\n",
        "  model.reactions.Ex_meoh.lower_bound = -np.abs(meoh_up)\n",
        "  # setting additional biomass composition\n",
        "  model.reactions.LIPIDS_meoh.upper_bound = 1000\n",
        "  model.reactions.PROTEINS_meoh.upper_bound = 1000\n",
        "  model.reactions.STEROLS_meoh.upper_bound = 1000\n",
        "  model.reactions.BIOMASS_meoh.upper_bound = 1000\n",
        "  # deactivating Glc-based biomass composition\n",
        "  model.reactions.LIPIDS.upper_bound = 0\n",
        "  model.reactions.PROTEINS.upper_bound = 0\n",
        "  model.reactions.STEROLS.upper_bound = 0\n",
        "  model.reactions.BIOMASS.upper_bound = 0  \n",
        "  model.objective = 'BIOMASS_meoh'\n",
        "  return model\n",
        "\n",
        "def AdaptGlucose(model, glc_up):\n",
        "  # setting uptake reactions right\n",
        "  model.reactions.Ex_meoh.lower_bound = 0\n",
        "  model.reactions.Ex_glyc.lower_bound = 0\n",
        "  model.reactions.Ex_glc_D.lower_bound = -np.abs(glc_up)\n",
        "  # setting additional biomass composition\n",
        "  model.reactions.LIPIDS.upper_bound = 1000\n",
        "  model.reactions.PROTEINS.upper_bound = 1000\n",
        "  model.reactions.STEROLS.upper_bound = 1000\n",
        "  model.reactions.BIOMASS.upper_bound = 1000  \n",
        "  # deactivating Glc-based biomass composition\n",
        "  model.reactions.LIPIDS_meoh.upper_bound = 0\n",
        "  model.reactions.PROTEINS_meoh.upper_bound = 0\n",
        "  model.reactions.STEROLS_meoh.upper_bound = 0\n",
        "  model.reactions.BIOMASS_meoh.upper_bound = 0\n",
        "  model.objective = 'BIOMASS'\n",
        "  return model\n",
        "\n",
        "def AdaptGlycerol(model, glyc_up):\n",
        "  # setting uptake reactions right\n",
        "  model.reactions.Ex_meoh.lower_bound = 0;\n",
        "  model.reactions.Ex_glc_D.lower_bound = 0;\n",
        "  model.reactions.Ex_glyc.lower_bound = -np.abs(glyc_up)\n",
        "  # setting additional biomass composition\n",
        "  model.reactions.LIPIDS.upper_bound = 1000\n",
        "  model.reactions.PROTEINS.upper_bound = 1000\n",
        "  model.reactions.STEROLS.upper_bound = 1000\n",
        "  model.reactions.BIOMASS_glyc.upper_bound = 1000  \n",
        "  # deactivating Glc-based biomass composition\n",
        "  model.reactions.LIPIDS_meoh.upper_bound = 0\n",
        "  model.reactions.PROTEINS_meoh.upper_bound = 0\n",
        "  model.reactions.STEROLS_meoh.upper_bound = 0\n",
        "  model.reactions.BIOMASS_meoh.upper_bound = 0\n",
        "  model.objective = 'BIOMASS_glyc'\n",
        "  return model\n"
      ],
      "execution_count": 0,
      "outputs": []
    },
    {
      "cell_type": "markdown",
      "metadata": {
        "id": "ivb9lHHTAW9r",
        "colab_type": "text"
      },
      "source": [
        "## Simulation and visualization\n",
        "\n",
        "Here, we start the simulation loop. For all substrates we use the substrate uptake rate and use the functions defined previously to update the model. The final growth rate is stored, and is then used in a plot versus the experimentally observed growth."
      ]
    },
    {
      "cell_type": "code",
      "metadata": {
        "id": "Pqra-K5XhnPS",
        "colab_type": "code",
        "colab": {}
      },
      "source": [
        "test_model = model.copy()\n",
        "growth_simulated = [];\n",
        "for index, row in df1.iterrows():\n",
        "  print(index)\n",
        "  if row['Substrate'] == 'Methanol':\n",
        "    test_model = AdaptMethanol(test_model, row['uptake rate (mmol/gCDW/h)'])\n",
        "  elif row['Substrate'] == 'Glucose':\n",
        "    test_model = AdaptGlucose(test_model, row['uptake rate (mmol/gCDW/h)'])\n",
        "  elif row['Substrate'] == 'Glycerol':\n",
        "    test_model = AdaptGlycerol(test_model, row['uptake rate (mmol/gCDW/h)'])\n",
        "  else:\n",
        "    print('substrate not considered')      \n",
        "  test_model.optimize()\n",
        "  growth_simulated.append(test_model.objective.value)\n"
      ],
      "execution_count": 0,
      "outputs": []
    },
    {
      "cell_type": "code",
      "metadata": {
        "id": "dBB6GXj5rQn2",
        "colab_type": "code",
        "colab": {
          "base_uri": "https://localhost:8080/",
          "height": 286
        },
        "outputId": "1614d39e-0145-4352-d91e-72c92cdb691a"
      },
      "source": [
        "plt.rc('axes', labelsize=12) \n",
        "plt.rc('xtick', labelsize=10) \n",
        "plt.rc('ytick', labelsize=10) \n",
        "plt.rc('legend', fontsize=12) \n",
        "# plt.figure(figsize=(4,3))\n",
        "plt.scatter(df1['growth rate (/h)'][1:8], growth_simulated[1:8], s=100, c='k', marker='o', );\n",
        "plt.scatter(df1['growth rate (/h)'][8], growth_simulated[8], s=100, c='k', marker='s');\n",
        "plt.scatter(df1['growth rate (/h)'][0], growth_simulated[0], s=100, c='k', marker='x');\n",
        "plt.xlabel('Experiment (/h)');\n",
        "plt.ylabel('Simulation (/h)');\n",
        "myline = np.linspace(0,np.max(growth_simulated),10);\n",
        "plt.plot(myline,myline,'k--');\n",
        "# plt.title('Growth rate comparison');\n",
        "plt.legend(['Optimum','Methanol (van Dijken)','Glycerol (deKoning, Moon)','Glucose (Lehnen)'], loc=2);\n",
        "plt.style.use('seaborn-paper')\n",
        "plt.savefig('iOpol_growth_exp-vs-sim.png', bbox_inches='tight')\n",
        "# plt.savefig('iOpol_growth_exp-vs-sim.pdf', bbox_inches='tight')\n"
      ],
      "execution_count": 9,
      "outputs": [
        {
          "output_type": "display_data",
          "data": {
            "image/png": "[encoded data removed]",
            "text/plain": [
              "<Figure size 432x288 with 1 Axes>"
            ]
          },
          "metadata": {
            "tags": []
          }
        }
      ]
    },
    {
      "cell_type": "markdown",
      "metadata": {
        "id": "ymnBrgxgsjJL",
        "colab_type": "text"
      },
      "source": [
        "### Adding reactions for itaconate production"
      ]
    },
    {
      "cell_type": "code",
      "metadata": {
        "id": "yJjYloqxsoHE",
        "colab_type": "code",
        "colab": {}
      },
      "source": [
        "from cobra.core import Reaction, Model, Metabolite\n",
        "\n",
        "Model_itaconate = model.copy()\n",
        "\n",
        "# assuming that citrate is in quick equilibrium with aconitate to ignore this reaction\n",
        "# first reaction is the conversion of cytoplasmic citrate to itaconate\n",
        "# itaconate is exported and exchanged\n",
        "reaction1 = Reaction('CAD')\n",
        "reaction1.name = 'cis-aconitate decarboxylase'\n",
        "reaction1.lower_bound = 0.\n",
        "reaction1.upper_bound = 1000.\n",
        "#reaction1.objective_coefficient = 0\n",
        "reaction1.reaction_reversibility = 0\n",
        "\n",
        "R1metCit = Model_itaconate.metabolites.get_by_id('cit__91__c__93__')\n",
        "R1metCO2 = Model_itaconate.metabolites.get_by_id('co2__91__c__93__')\n",
        "R1metIta = Metabolite('Ita_c', name='Itaconate, cytoplasm', formula='C5H6O4', compartment='c')\n",
        "reaction1.add_metabolites({R1metCit: -1.0,\n",
        "                           R1metCO2: 1.0,\n",
        "                           R1metIta: 1.0})\n",
        "\n",
        "# for testing purpose we add the exchange reaction directly to the cytoplasmic itaconate\n",
        "reaction2 = Reaction('Ex_ita')\n",
        "reaction2.name = 'Exchange, itaconate cytoplasm'\n",
        "reaction2.lower_bound = 0.\n",
        "reaction2.upper_bound = 1000.\n",
        "#reaction2.objective_coefficient = 0\n",
        "reaction2.reaction_reversibility = 1\n",
        "reaction2.add_metabolites({R1metIta: -1.0})\n",
        "\n",
        "Model_itaconate.add_reactions([reaction1, reaction2])\n",
        "# Model_itaconate.reactions.get_by_id('Ex_ita')\n"
      ],
      "execution_count": 0,
      "outputs": []
    },
    {
      "cell_type": "markdown",
      "metadata": {
        "id": "exSGKts_ZFbJ",
        "colab_type": "text"
      },
      "source": [
        "### Testing itaconate production"
      ]
    },
    {
      "cell_type": "code",
      "metadata": {
        "id": "1sQWPJs81fyD",
        "colab_type": "code",
        "colab": {}
      },
      "source": [
        "Model_itaconate.objective = 'Ex_ita'\n",
        "Model_itaconate.optimize()\n",
        "Model_itaconate.summary()"
      ],
      "execution_count": 0,
      "outputs": []
    }
  ]
}